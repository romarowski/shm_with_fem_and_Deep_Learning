{
 "cells": [
  {
   "cell_type": "code",
   "execution_count": 2,
   "metadata": {
    "scrolled": true
   },
   "outputs": [
    {
     "name": "stdout",
     "output_type": "stream",
     "text": [
      "Model: \"sequential_1\"\n",
      "_________________________________________________________________\n",
      "Layer (type)                 Output Shape              Param #   \n",
      "=================================================================\n",
      "lstm_4 (LSTM)                (None, 50, 64)            16896     \n",
      "_________________________________________________________________\n",
      "lstm_5 (LSTM)                (None, 50, 32)            12416     \n",
      "_________________________________________________________________\n",
      "lstm_6 (LSTM)                (None, 50, 16)            3136      \n",
      "_________________________________________________________________\n",
      "lstm_7 (LSTM)                (None, 8)                 800       \n",
      "_________________________________________________________________\n",
      "dense_2 (Dense)              (None, 1)                 9         \n",
      "=================================================================\n",
      "Total params: 33,257\n",
      "Trainable params: 33,257\n",
      "Non-trainable params: 0\n",
      "_________________________________________________________________\n",
      "Model: \"sequential_1\"\n",
      "_________________________________________________________________\n",
      "Layer (type)                 Output Shape              Param #   \n",
      "=================================================================\n",
      "lstm_4 (LSTM)                (None, 50, 64)            16896     \n",
      "_________________________________________________________________\n",
      "lstm_5 (LSTM)                (None, 50, 32)            12416     \n",
      "_________________________________________________________________\n",
      "lstm_6 (LSTM)                (None, 50, 16)            3136      \n",
      "_________________________________________________________________\n",
      "lstm_7 (LSTM)                (None, 8)                 800       \n",
      "_________________________________________________________________\n",
      "dense_2 (Dense)              (None, 1)                 9         \n",
      "_________________________________________________________________\n",
      "dense_3 (Dense)              (None, 1)                 2         \n",
      "=================================================================\n",
      "Total params: 33,259\n",
      "Trainable params: 33,259\n",
      "Non-trainable params: 0\n",
      "_________________________________________________________________\n",
      "Train for 288000 steps, validate for 72001 steps\n",
      "Epoch 1/100\n",
      " 50819/288000 [====>.........................] - ETA: 3:17:50 - loss: 0.1626 - coeff_determination: 0.8059WARNING:tensorflow:Reduce LR on plateau conditioned on metric `val_loss` which is not available. Available metrics are: loss,coeff_determination,lr\n",
      " 50820/288000 [====>.........................] - ETA: 3:17:50 - loss: 0.1626 - coeff_determination: 0.8059"
     ]
    },
    {
     "name": "stderr",
     "output_type": "stream",
     "text": [
      "/opt/anaconda3/lib/python3.7/site-packages/keras/callbacks/callbacks.py:707: RuntimeWarning: Can save best model only with val_loss available, skipping.\n",
      "  'skipping.' % (self.monitor), RuntimeWarning)\n",
      "/opt/anaconda3/lib/python3.7/site-packages/keras/callbacks/callbacks.py:846: RuntimeWarning: Early stopping conditioned on metric `val_loss` which is not available. Available metrics are: loss,coeff_determination\n",
      "  (self.monitor, ','.join(list(logs.keys()))), RuntimeWarning\n"
     ]
    },
    {
     "ename": "KeyboardInterrupt",
     "evalue": "",
     "output_type": "error",
     "traceback": [
      "\u001b[0;31m---------------------------------------------------------------------------\u001b[0m",
      "\u001b[0;31mKeyboardInterrupt\u001b[0m                         Traceback (most recent call last)",
      "\u001b[0;32m~/thesis/Dyn_Beam/pred_LSTM_experiment.py\u001b[0m in \u001b[0;36m<module>\u001b[0;34m\u001b[0m\n\u001b[1;32m    119\u001b[0m plot_train_history(model_history,\n\u001b[1;32m    120\u001b[0m                    'Single Step Training and validation loss')\n",
      "\u001b[0;32m/opt/anaconda3/lib/python3.7/site-packages/tensorflow_core/python/keras/engine/training.py\u001b[0m in \u001b[0;36mfit\u001b[0;34m(self, x, y, batch_size, epochs, verbose, callbacks, validation_split, validation_data, shuffle, class_weight, sample_weight, initial_epoch, steps_per_epoch, validation_steps, validation_freq, max_queue_size, workers, use_multiprocessing, **kwargs)\u001b[0m\n\u001b[1;32m    817\u001b[0m         \u001b[0mmax_queue_size\u001b[0m\u001b[0;34m=\u001b[0m\u001b[0mmax_queue_size\u001b[0m\u001b[0;34m,\u001b[0m\u001b[0;34m\u001b[0m\u001b[0;34m\u001b[0m\u001b[0m\n\u001b[1;32m    818\u001b[0m         \u001b[0mworkers\u001b[0m\u001b[0;34m=\u001b[0m\u001b[0mworkers\u001b[0m\u001b[0;34m,\u001b[0m\u001b[0;34m\u001b[0m\u001b[0;34m\u001b[0m\u001b[0m\n\u001b[0;32m--> 819\u001b[0;31m         use_multiprocessing=use_multiprocessing)\n\u001b[0m\u001b[1;32m    820\u001b[0m \u001b[0;34m\u001b[0m\u001b[0m\n\u001b[1;32m    821\u001b[0m   def evaluate(self,\n",
      "\u001b[0;32m/opt/anaconda3/lib/python3.7/site-packages/tensorflow_core/python/keras/engine/training_v2.py\u001b[0m in \u001b[0;36mfit\u001b[0;34m(self, model, x, y, batch_size, epochs, verbose, callbacks, validation_split, validation_data, shuffle, class_weight, sample_weight, initial_epoch, steps_per_epoch, validation_steps, validation_freq, max_queue_size, workers, use_multiprocessing, **kwargs)\u001b[0m\n\u001b[1;32m    340\u001b[0m                 \u001b[0mmode\u001b[0m\u001b[0;34m=\u001b[0m\u001b[0mModeKeys\u001b[0m\u001b[0;34m.\u001b[0m\u001b[0mTRAIN\u001b[0m\u001b[0;34m,\u001b[0m\u001b[0;34m\u001b[0m\u001b[0;34m\u001b[0m\u001b[0m\n\u001b[1;32m    341\u001b[0m                 \u001b[0mtraining_context\u001b[0m\u001b[0;34m=\u001b[0m\u001b[0mtraining_context\u001b[0m\u001b[0;34m,\u001b[0m\u001b[0;34m\u001b[0m\u001b[0;34m\u001b[0m\u001b[0m\n\u001b[0;32m--> 342\u001b[0;31m                 total_epochs=epochs)\n\u001b[0m\u001b[1;32m    343\u001b[0m             \u001b[0mcbks\u001b[0m\u001b[0;34m.\u001b[0m\u001b[0mmake_logs\u001b[0m\u001b[0;34m(\u001b[0m\u001b[0mmodel\u001b[0m\u001b[0;34m,\u001b[0m \u001b[0mepoch_logs\u001b[0m\u001b[0;34m,\u001b[0m \u001b[0mtraining_result\u001b[0m\u001b[0;34m,\u001b[0m \u001b[0mModeKeys\u001b[0m\u001b[0;34m.\u001b[0m\u001b[0mTRAIN\u001b[0m\u001b[0;34m)\u001b[0m\u001b[0;34m\u001b[0m\u001b[0;34m\u001b[0m\u001b[0m\n\u001b[1;32m    344\u001b[0m \u001b[0;34m\u001b[0m\u001b[0m\n",
      "\u001b[0;32m/opt/anaconda3/lib/python3.7/site-packages/tensorflow_core/python/keras/engine/training_v2.py\u001b[0m in \u001b[0;36mrun_one_epoch\u001b[0;34m(model, iterator, execution_function, dataset_size, batch_size, strategy, steps_per_epoch, num_samples, mode, training_context, total_epochs)\u001b[0m\n\u001b[1;32m    126\u001b[0m         step=step, mode=mode, size=current_batch_size) as batch_logs:\n\u001b[1;32m    127\u001b[0m       \u001b[0;32mtry\u001b[0m\u001b[0;34m:\u001b[0m\u001b[0;34m\u001b[0m\u001b[0;34m\u001b[0m\u001b[0m\n\u001b[0;32m--> 128\u001b[0;31m         \u001b[0mbatch_outs\u001b[0m \u001b[0;34m=\u001b[0m \u001b[0mexecution_function\u001b[0m\u001b[0;34m(\u001b[0m\u001b[0miterator\u001b[0m\u001b[0;34m)\u001b[0m\u001b[0;34m\u001b[0m\u001b[0;34m\u001b[0m\u001b[0m\n\u001b[0m\u001b[1;32m    129\u001b[0m       \u001b[0;32mexcept\u001b[0m \u001b[0;34m(\u001b[0m\u001b[0mStopIteration\u001b[0m\u001b[0;34m,\u001b[0m \u001b[0merrors\u001b[0m\u001b[0;34m.\u001b[0m\u001b[0mOutOfRangeError\u001b[0m\u001b[0;34m)\u001b[0m\u001b[0;34m:\u001b[0m\u001b[0;34m\u001b[0m\u001b[0;34m\u001b[0m\u001b[0m\n\u001b[1;32m    130\u001b[0m         \u001b[0;31m# TODO(kaftan): File bug about tf function and errors.OutOfRangeError?\u001b[0m\u001b[0;34m\u001b[0m\u001b[0;34m\u001b[0m\u001b[0;34m\u001b[0m\u001b[0m\n",
      "\u001b[0;32m/opt/anaconda3/lib/python3.7/site-packages/tensorflow_core/python/keras/engine/training_v2_utils.py\u001b[0m in \u001b[0;36mexecution_function\u001b[0;34m(input_fn)\u001b[0m\n\u001b[1;32m     96\u001b[0m     \u001b[0;31m# `numpy` translates Tensors to values in Eager mode.\u001b[0m\u001b[0;34m\u001b[0m\u001b[0;34m\u001b[0m\u001b[0;34m\u001b[0m\u001b[0m\n\u001b[1;32m     97\u001b[0m     return nest.map_structure(_non_none_constant_value,\n\u001b[0;32m---> 98\u001b[0;31m                               distributed_function(input_fn))\n\u001b[0m\u001b[1;32m     99\u001b[0m \u001b[0;34m\u001b[0m\u001b[0m\n\u001b[1;32m    100\u001b[0m   \u001b[0;32mreturn\u001b[0m \u001b[0mexecution_function\u001b[0m\u001b[0;34m\u001b[0m\u001b[0;34m\u001b[0m\u001b[0m\n",
      "\u001b[0;32m/opt/anaconda3/lib/python3.7/site-packages/tensorflow_core/python/eager/def_function.py\u001b[0m in \u001b[0;36m__call__\u001b[0;34m(self, *args, **kwds)\u001b[0m\n\u001b[1;32m    566\u001b[0m         \u001b[0mxla_context\u001b[0m\u001b[0;34m.\u001b[0m\u001b[0mExit\u001b[0m\u001b[0;34m(\u001b[0m\u001b[0;34m)\u001b[0m\u001b[0;34m\u001b[0m\u001b[0;34m\u001b[0m\u001b[0m\n\u001b[1;32m    567\u001b[0m     \u001b[0;32melse\u001b[0m\u001b[0;34m:\u001b[0m\u001b[0;34m\u001b[0m\u001b[0;34m\u001b[0m\u001b[0m\n\u001b[0;32m--> 568\u001b[0;31m       \u001b[0mresult\u001b[0m \u001b[0;34m=\u001b[0m \u001b[0mself\u001b[0m\u001b[0;34m.\u001b[0m\u001b[0m_call\u001b[0m\u001b[0;34m(\u001b[0m\u001b[0;34m*\u001b[0m\u001b[0margs\u001b[0m\u001b[0;34m,\u001b[0m \u001b[0;34m**\u001b[0m\u001b[0mkwds\u001b[0m\u001b[0;34m)\u001b[0m\u001b[0;34m\u001b[0m\u001b[0;34m\u001b[0m\u001b[0m\n\u001b[0m\u001b[1;32m    569\u001b[0m \u001b[0;34m\u001b[0m\u001b[0m\n\u001b[1;32m    570\u001b[0m     \u001b[0;32mif\u001b[0m \u001b[0mtracing_count\u001b[0m \u001b[0;34m==\u001b[0m \u001b[0mself\u001b[0m\u001b[0;34m.\u001b[0m\u001b[0m_get_tracing_count\u001b[0m\u001b[0;34m(\u001b[0m\u001b[0;34m)\u001b[0m\u001b[0;34m:\u001b[0m\u001b[0;34m\u001b[0m\u001b[0;34m\u001b[0m\u001b[0m\n",
      "\u001b[0;32m/opt/anaconda3/lib/python3.7/site-packages/tensorflow_core/python/eager/def_function.py\u001b[0m in \u001b[0;36m_call\u001b[0;34m(self, *args, **kwds)\u001b[0m\n\u001b[1;32m    597\u001b[0m       \u001b[0;31m# In this case we have created variables on the first call, so we run the\u001b[0m\u001b[0;34m\u001b[0m\u001b[0;34m\u001b[0m\u001b[0;34m\u001b[0m\u001b[0m\n\u001b[1;32m    598\u001b[0m       \u001b[0;31m# defunned version which is guaranteed to never create variables.\u001b[0m\u001b[0;34m\u001b[0m\u001b[0;34m\u001b[0m\u001b[0;34m\u001b[0m\u001b[0m\n\u001b[0;32m--> 599\u001b[0;31m       \u001b[0;32mreturn\u001b[0m \u001b[0mself\u001b[0m\u001b[0;34m.\u001b[0m\u001b[0m_stateless_fn\u001b[0m\u001b[0;34m(\u001b[0m\u001b[0;34m*\u001b[0m\u001b[0margs\u001b[0m\u001b[0;34m,\u001b[0m \u001b[0;34m**\u001b[0m\u001b[0mkwds\u001b[0m\u001b[0;34m)\u001b[0m  \u001b[0;31m# pylint: disable=not-callable\u001b[0m\u001b[0;34m\u001b[0m\u001b[0;34m\u001b[0m\u001b[0m\n\u001b[0m\u001b[1;32m    600\u001b[0m     \u001b[0;32melif\u001b[0m \u001b[0mself\u001b[0m\u001b[0;34m.\u001b[0m\u001b[0m_stateful_fn\u001b[0m \u001b[0;32mis\u001b[0m \u001b[0;32mnot\u001b[0m \u001b[0;32mNone\u001b[0m\u001b[0;34m:\u001b[0m\u001b[0;34m\u001b[0m\u001b[0;34m\u001b[0m\u001b[0m\n\u001b[1;32m    601\u001b[0m       \u001b[0;31m# Release the lock early so that multiple threads can perform the call\u001b[0m\u001b[0;34m\u001b[0m\u001b[0;34m\u001b[0m\u001b[0;34m\u001b[0m\u001b[0m\n",
      "\u001b[0;32m/opt/anaconda3/lib/python3.7/site-packages/tensorflow_core/python/eager/function.py\u001b[0m in \u001b[0;36m__call__\u001b[0;34m(self, *args, **kwargs)\u001b[0m\n\u001b[1;32m   2361\u001b[0m     \u001b[0;32mwith\u001b[0m \u001b[0mself\u001b[0m\u001b[0;34m.\u001b[0m\u001b[0m_lock\u001b[0m\u001b[0;34m:\u001b[0m\u001b[0;34m\u001b[0m\u001b[0;34m\u001b[0m\u001b[0m\n\u001b[1;32m   2362\u001b[0m       \u001b[0mgraph_function\u001b[0m\u001b[0;34m,\u001b[0m \u001b[0margs\u001b[0m\u001b[0;34m,\u001b[0m \u001b[0mkwargs\u001b[0m \u001b[0;34m=\u001b[0m \u001b[0mself\u001b[0m\u001b[0;34m.\u001b[0m\u001b[0m_maybe_define_function\u001b[0m\u001b[0;34m(\u001b[0m\u001b[0margs\u001b[0m\u001b[0;34m,\u001b[0m \u001b[0mkwargs\u001b[0m\u001b[0;34m)\u001b[0m\u001b[0;34m\u001b[0m\u001b[0;34m\u001b[0m\u001b[0m\n\u001b[0;32m-> 2363\u001b[0;31m     \u001b[0;32mreturn\u001b[0m \u001b[0mgraph_function\u001b[0m\u001b[0;34m.\u001b[0m\u001b[0m_filtered_call\u001b[0m\u001b[0;34m(\u001b[0m\u001b[0margs\u001b[0m\u001b[0;34m,\u001b[0m \u001b[0mkwargs\u001b[0m\u001b[0;34m)\u001b[0m  \u001b[0;31m# pylint: disable=protected-access\u001b[0m\u001b[0;34m\u001b[0m\u001b[0;34m\u001b[0m\u001b[0m\n\u001b[0m\u001b[1;32m   2364\u001b[0m \u001b[0;34m\u001b[0m\u001b[0m\n\u001b[1;32m   2365\u001b[0m   \u001b[0;34m@\u001b[0m\u001b[0mproperty\u001b[0m\u001b[0;34m\u001b[0m\u001b[0;34m\u001b[0m\u001b[0m\n",
      "\u001b[0;32m/opt/anaconda3/lib/python3.7/site-packages/tensorflow_core/python/eager/function.py\u001b[0m in \u001b[0;36m_filtered_call\u001b[0;34m(self, args, kwargs)\u001b[0m\n\u001b[1;32m   1609\u001b[0m          if isinstance(t, (ops.Tensor,\n\u001b[1;32m   1610\u001b[0m                            resource_variable_ops.BaseResourceVariable))),\n\u001b[0;32m-> 1611\u001b[0;31m         self.captured_inputs)\n\u001b[0m\u001b[1;32m   1612\u001b[0m \u001b[0;34m\u001b[0m\u001b[0m\n\u001b[1;32m   1613\u001b[0m   \u001b[0;32mdef\u001b[0m \u001b[0m_call_flat\u001b[0m\u001b[0;34m(\u001b[0m\u001b[0mself\u001b[0m\u001b[0;34m,\u001b[0m \u001b[0margs\u001b[0m\u001b[0;34m,\u001b[0m \u001b[0mcaptured_inputs\u001b[0m\u001b[0;34m,\u001b[0m \u001b[0mcancellation_manager\u001b[0m\u001b[0;34m=\u001b[0m\u001b[0;32mNone\u001b[0m\u001b[0;34m)\u001b[0m\u001b[0;34m:\u001b[0m\u001b[0;34m\u001b[0m\u001b[0;34m\u001b[0m\u001b[0m\n",
      "\u001b[0;32m/opt/anaconda3/lib/python3.7/site-packages/tensorflow_core/python/eager/function.py\u001b[0m in \u001b[0;36m_call_flat\u001b[0;34m(self, args, captured_inputs, cancellation_manager)\u001b[0m\n\u001b[1;32m   1690\u001b[0m       \u001b[0;31m# No tape is watching; skip to running the function.\u001b[0m\u001b[0;34m\u001b[0m\u001b[0;34m\u001b[0m\u001b[0;34m\u001b[0m\u001b[0m\n\u001b[1;32m   1691\u001b[0m       return self._build_call_outputs(self._inference_function.call(\n\u001b[0;32m-> 1692\u001b[0;31m           ctx, args, cancellation_manager=cancellation_manager))\n\u001b[0m\u001b[1;32m   1693\u001b[0m     forward_backward = self._select_forward_and_backward_functions(\n\u001b[1;32m   1694\u001b[0m         \u001b[0margs\u001b[0m\u001b[0;34m,\u001b[0m\u001b[0;34m\u001b[0m\u001b[0;34m\u001b[0m\u001b[0m\n",
      "\u001b[0;32m/opt/anaconda3/lib/python3.7/site-packages/tensorflow_core/python/eager/function.py\u001b[0m in \u001b[0;36mcall\u001b[0;34m(self, ctx, args, cancellation_manager)\u001b[0m\n\u001b[1;32m    543\u001b[0m               \u001b[0minputs\u001b[0m\u001b[0;34m=\u001b[0m\u001b[0margs\u001b[0m\u001b[0;34m,\u001b[0m\u001b[0;34m\u001b[0m\u001b[0;34m\u001b[0m\u001b[0m\n\u001b[1;32m    544\u001b[0m               \u001b[0mattrs\u001b[0m\u001b[0;34m=\u001b[0m\u001b[0;34m(\u001b[0m\u001b[0;34m\"executor_type\"\u001b[0m\u001b[0;34m,\u001b[0m \u001b[0mexecutor_type\u001b[0m\u001b[0;34m,\u001b[0m \u001b[0;34m\"config_proto\"\u001b[0m\u001b[0;34m,\u001b[0m \u001b[0mconfig\u001b[0m\u001b[0;34m)\u001b[0m\u001b[0;34m,\u001b[0m\u001b[0;34m\u001b[0m\u001b[0;34m\u001b[0m\u001b[0m\n\u001b[0;32m--> 545\u001b[0;31m               ctx=ctx)\n\u001b[0m\u001b[1;32m    546\u001b[0m         \u001b[0;32melse\u001b[0m\u001b[0;34m:\u001b[0m\u001b[0;34m\u001b[0m\u001b[0;34m\u001b[0m\u001b[0m\n\u001b[1;32m    547\u001b[0m           outputs = execute.execute_with_cancellation(\n",
      "\u001b[0;32m/opt/anaconda3/lib/python3.7/site-packages/tensorflow_core/python/eager/execute.py\u001b[0m in \u001b[0;36mquick_execute\u001b[0;34m(op_name, num_outputs, inputs, attrs, ctx, name)\u001b[0m\n\u001b[1;32m     59\u001b[0m     tensors = pywrap_tensorflow.TFE_Py_Execute(ctx._handle, device_name,\n\u001b[1;32m     60\u001b[0m                                                \u001b[0mop_name\u001b[0m\u001b[0;34m,\u001b[0m \u001b[0minputs\u001b[0m\u001b[0;34m,\u001b[0m \u001b[0mattrs\u001b[0m\u001b[0;34m,\u001b[0m\u001b[0;34m\u001b[0m\u001b[0;34m\u001b[0m\u001b[0m\n\u001b[0;32m---> 61\u001b[0;31m                                                num_outputs)\n\u001b[0m\u001b[1;32m     62\u001b[0m   \u001b[0;32mexcept\u001b[0m \u001b[0mcore\u001b[0m\u001b[0;34m.\u001b[0m\u001b[0m_NotOkStatusException\u001b[0m \u001b[0;32mas\u001b[0m \u001b[0me\u001b[0m\u001b[0;34m:\u001b[0m\u001b[0;34m\u001b[0m\u001b[0;34m\u001b[0m\u001b[0m\n\u001b[1;32m     63\u001b[0m     \u001b[0;32mif\u001b[0m \u001b[0mname\u001b[0m \u001b[0;32mis\u001b[0m \u001b[0;32mnot\u001b[0m \u001b[0;32mNone\u001b[0m\u001b[0;34m:\u001b[0m\u001b[0;34m\u001b[0m\u001b[0;34m\u001b[0m\u001b[0m\n",
      "\u001b[0;31mKeyboardInterrupt\u001b[0m: "
     ]
    }
   ],
   "source": [
    "%run pred_LSTM_experiment.py"
   ]
  },
  {
   "cell_type": "code",
   "execution_count": 30,
   "metadata": {},
   "outputs": [],
   "source": [
    "data = np.loadtxt('./simulations/Simulation7.txt')"
   ]
  },
  {
   "cell_type": "code",
   "execution_count": 22,
   "metadata": {},
   "outputs": [],
   "source": [
    "import seaborn as sns"
   ]
  },
  {
   "cell_type": "code",
   "execution_count": 26,
   "metadata": {},
   "outputs": [
    {
     "data": {
      "text/plain": [
       "{'whiskers': [<matplotlib.lines.Line2D at 0x7f7f26d2ed10>,\n",
       "  <matplotlib.lines.Line2D at 0x7f7f26d32290>,\n",
       "  <matplotlib.lines.Line2D at 0x7f7f26d41290>,\n",
       "  <matplotlib.lines.Line2D at 0x7f7f26d9ffd0>,\n",
       "  <matplotlib.lines.Line2D at 0x7f7f26d515d0>,\n",
       "  <matplotlib.lines.Line2D at 0x7f7f26d51ad0>,\n",
       "  <matplotlib.lines.Line2D at 0x7f7f26ce39d0>,\n",
       "  <matplotlib.lines.Line2D at 0x7f7f26ce3ed0>,\n",
       "  <matplotlib.lines.Line2D at 0x7f7f26cf2d90>,\n",
       "  <matplotlib.lines.Line2D at 0x7f7f26d381d0>,\n",
       "  <matplotlib.lines.Line2D at 0x7f7f26d0c190>,\n",
       "  <matplotlib.lines.Line2D at 0x7f7f26d0c690>,\n",
       "  <matplotlib.lines.Line2D at 0x7f7f26c9c510>,\n",
       "  <matplotlib.lines.Line2D at 0x7f7f26c9ca10>,\n",
       "  <matplotlib.lines.Line2D at 0x7f7f26cac890>,\n",
       "  <matplotlib.lines.Line2D at 0x7f7f26cacd90>,\n",
       "  <matplotlib.lines.Line2D at 0x7f7f26cf2950>,\n",
       "  <matplotlib.lines.Line2D at 0x7f7f26cc50d0>,\n",
       "  <matplotlib.lines.Line2D at 0x7f7f26ccfe90>,\n",
       "  <matplotlib.lines.Line2D at 0x7f7f26c553d0>],\n",
       " 'caps': [<matplotlib.lines.Line2D at 0x7f7f26d32790>,\n",
       "  <matplotlib.lines.Line2D at 0x7f7f26d32c90>,\n",
       "  <matplotlib.lines.Line2D at 0x7f7f26d41c50>,\n",
       "  <matplotlib.lines.Line2D at 0x7f7f26d49190>,\n",
       "  <matplotlib.lines.Line2D at 0x7f7f26cda050>,\n",
       "  <matplotlib.lines.Line2D at 0x7f7f26cda550>,\n",
       "  <matplotlib.lines.Line2D at 0x7f7f26cea410>,\n",
       "  <matplotlib.lines.Line2D at 0x7f7f26cea910>,\n",
       "  <matplotlib.lines.Line2D at 0x7f7f26cfa7d0>,\n",
       "  <matplotlib.lines.Line2D at 0x7f7f26d51bd0>,\n",
       "  <matplotlib.lines.Line2D at 0x7f7f26d0cb90>,\n",
       "  <matplotlib.lines.Line2D at 0x7f7f26c940d0>,\n",
       "  <matplotlib.lines.Line2D at 0x7f7f26c9cf10>,\n",
       "  <matplotlib.lines.Line2D at 0x7f7f26ca5450>,\n",
       "  <matplotlib.lines.Line2D at 0x7f7f26cb32d0>,\n",
       "  <matplotlib.lines.Line2D at 0x7f7f26cb37d0>,\n",
       "  <matplotlib.lines.Line2D at 0x7f7f26cc55d0>,\n",
       "  <matplotlib.lines.Line2D at 0x7f7f26cc5ad0>,\n",
       "  <matplotlib.lines.Line2D at 0x7f7f26c558d0>,\n",
       "  <matplotlib.lines.Line2D at 0x7f7f26c55dd0>],\n",
       " 'boxes': [<matplotlib.lines.Line2D at 0x7f7f26d2e050>,\n",
       "  <matplotlib.lines.Line2D at 0x7f7f26d38d50>,\n",
       "  <matplotlib.lines.Line2D at 0x7f7f26d510d0>,\n",
       "  <matplotlib.lines.Line2D at 0x7f7f26ce34d0>,\n",
       "  <matplotlib.lines.Line2D at 0x7f7f26cf2850>,\n",
       "  <matplotlib.lines.Line2D at 0x7f7f26d02c10>,\n",
       "  <matplotlib.lines.Line2D at 0x7f7f26d02d10>,\n",
       "  <matplotlib.lines.Line2D at 0x7f7f26cac390>,\n",
       "  <matplotlib.lines.Line2D at 0x7f7f26d49d50>,\n",
       "  <matplotlib.lines.Line2D at 0x7f7f26cf2510>],\n",
       " 'medians': [<matplotlib.lines.Line2D at 0x7f7f26d38210>,\n",
       "  <matplotlib.lines.Line2D at 0x7f7f26d49690>,\n",
       "  <matplotlib.lines.Line2D at 0x7f7f26cda650>,\n",
       "  <matplotlib.lines.Line2D at 0x7f7f26ceae10>,\n",
       "  <matplotlib.lines.Line2D at 0x7f7f26d021d0>,\n",
       "  <matplotlib.lines.Line2D at 0x7f7f26c945d0>,\n",
       "  <matplotlib.lines.Line2D at 0x7f7f26ca5950>,\n",
       "  <matplotlib.lines.Line2D at 0x7f7f26cb3cd0>,\n",
       "  <matplotlib.lines.Line2D at 0x7f7f26c94fd0>,\n",
       "  <matplotlib.lines.Line2D at 0x7f7f26c5c310>],\n",
       " 'fliers': [<matplotlib.lines.Line2D at 0x7f7f26d38710>,\n",
       "  <matplotlib.lines.Line2D at 0x7f7f26d49b90>,\n",
       "  <matplotlib.lines.Line2D at 0x7f7f26cdaa90>,\n",
       "  <matplotlib.lines.Line2D at 0x7f7f26cf2350>,\n",
       "  <matplotlib.lines.Line2D at 0x7f7f26d026d0>,\n",
       "  <matplotlib.lines.Line2D at 0x7f7f26c94ad0>,\n",
       "  <matplotlib.lines.Line2D at 0x7f7f26ca5e50>,\n",
       "  <matplotlib.lines.Line2D at 0x7f7f26cbc210>,\n",
       "  <matplotlib.lines.Line2D at 0x7f7f26cf2e90>,\n",
       "  <matplotlib.lines.Line2D at 0x7f7f26c5c810>],\n",
       " 'means': []}"
      ]
     },
     "execution_count": 26,
     "metadata": {},
     "output_type": "execute_result"
    },
    {
     "data": {
      "image/png": "[encoded data removed]",
      "text/plain": [
       "<Figure size 432x288 with 1 Axes>"
      ]
     },
     "metadata": {
      "needs_background": "light"
     },
     "output_type": "display_data"
    }
   ],
   "source": [
    "plt.boxplot(dataset)\n"
   ]
  },
  {
   "cell_type": "code",
   "execution_count": 31,
   "metadata": {},
   "outputs": [
    {
     "data": {
      "text/plain": [
       "{'whiskers': [<matplotlib.lines.Line2D at 0x7f7f2cb22cd0>,\n",
       "  <matplotlib.lines.Line2D at 0x7f7f26aff210>,\n",
       "  <matplotlib.lines.Line2D at 0x7f7f26b0e090>,\n",
       "  <matplotlib.lines.Line2D at 0x7f7f2cb680d0>,\n",
       "  <matplotlib.lines.Line2D at 0x7f7f2016c3d0>,\n",
       "  <matplotlib.lines.Line2D at 0x7f7f2016c8d0>,\n",
       "  <matplotlib.lines.Line2D at 0x7f7f201897d0>,\n",
       "  <matplotlib.lines.Line2D at 0x7f7f20189cd0>,\n",
       "  <matplotlib.lines.Line2D at 0x7f7f203e4b90>,\n",
       "  <matplotlib.lines.Line2D at 0x7f7f26b02150>,\n",
       "  <matplotlib.lines.Line2D at 0x7f7f20402b10>,\n",
       "  <matplotlib.lines.Line2D at 0x7f7f20411490>,\n",
       "  <matplotlib.lines.Line2D at 0x7f7f201aa310>,\n",
       "  <matplotlib.lines.Line2D at 0x7f7f201aa810>,\n",
       "  <matplotlib.lines.Line2D at 0x7f7f201ce690>,\n",
       "  <matplotlib.lines.Line2D at 0x7f7f201ceb90>,\n",
       "  <matplotlib.lines.Line2D at 0x7f7f203e4750>,\n",
       "  <matplotlib.lines.Line2D at 0x7f7f20146e90>,\n",
       "  <matplotlib.lines.Line2D at 0x7f7f20118c90>,\n",
       "  <matplotlib.lines.Line2D at 0x7f7f201261d0>],\n",
       " 'caps': [<matplotlib.lines.Line2D at 0x7f7f26aff710>,\n",
       "  <matplotlib.lines.Line2D at 0x7f7f26affc10>,\n",
       "  <matplotlib.lines.Line2D at 0x7f7f26b0ea50>,\n",
       "  <matplotlib.lines.Line2D at 0x7f7f26b0ef50>,\n",
       "  <matplotlib.lines.Line2D at 0x7f7f2016c9d0>,\n",
       "  <matplotlib.lines.Line2D at 0x7f7f2017a350>,\n",
       "  <matplotlib.lines.Line2D at 0x7f7f20193210>,\n",
       "  <matplotlib.lines.Line2D at 0x7f7f20193710>,\n",
       "  <matplotlib.lines.Line2D at 0x7f7f203f55d0>,\n",
       "  <matplotlib.lines.Line2D at 0x7f7f2016ce10>,\n",
       "  <matplotlib.lines.Line2D at 0x7f7f20411990>,\n",
       "  <matplotlib.lines.Line2D at 0x7f7f20411e90>,\n",
       "  <matplotlib.lines.Line2D at 0x7f7f201aad10>,\n",
       "  <matplotlib.lines.Line2D at 0x7f7f201bb250>,\n",
       "  <matplotlib.lines.Line2D at 0x7f7f2013e0d0>,\n",
       "  <matplotlib.lines.Line2D at 0x7f7f2013e5d0>,\n",
       "  <matplotlib.lines.Line2D at 0x7f7f2014f3d0>,\n",
       "  <matplotlib.lines.Line2D at 0x7f7f2014f8d0>,\n",
       "  <matplotlib.lines.Line2D at 0x7f7f201266d0>,\n",
       "  <matplotlib.lines.Line2D at 0x7f7f20126bd0>],\n",
       " 'boxes': [<matplotlib.lines.Line2D at 0x7f7f2cb22050>,\n",
       "  <matplotlib.lines.Line2D at 0x7f7f26b02b10>,\n",
       "  <matplotlib.lines.Line2D at 0x7f7f2015de90>,\n",
       "  <matplotlib.lines.Line2D at 0x7f7f201892d0>,\n",
       "  <matplotlib.lines.Line2D at 0x7f7f203e4650>,\n",
       "  <matplotlib.lines.Line2D at 0x7f7f20402a10>,\n",
       "  <matplotlib.lines.Line2D at 0x7f7f2019cdd0>,\n",
       "  <matplotlib.lines.Line2D at 0x7f7f201ce190>,\n",
       "  <matplotlib.lines.Line2D at 0x7f7f2015db50>,\n",
       "  <matplotlib.lines.Line2D at 0x7f7f203e4310>],\n",
       " 'medians': [<matplotlib.lines.Line2D at 0x7f7f26b02190>,\n",
       "  <matplotlib.lines.Line2D at 0x7f7f2015d490>,\n",
       "  <matplotlib.lines.Line2D at 0x7f7f2017a450>,\n",
       "  <matplotlib.lines.Line2D at 0x7f7f20193c10>,\n",
       "  <matplotlib.lines.Line2D at 0x7f7f203f5f90>,\n",
       "  <matplotlib.lines.Line2D at 0x7f7f2019c3d0>,\n",
       "  <matplotlib.lines.Line2D at 0x7f7f201bb750>,\n",
       "  <matplotlib.lines.Line2D at 0x7f7f2013ead0>,\n",
       "  <matplotlib.lines.Line2D at 0x7f7f2014fdd0>,\n",
       "  <matplotlib.lines.Line2D at 0x7f7f20132110>],\n",
       " 'fliers': [<matplotlib.lines.Line2D at 0x7f7f26b02690>,\n",
       "  <matplotlib.lines.Line2D at 0x7f7f2015d990>,\n",
       "  <matplotlib.lines.Line2D at 0x7f7f2017a890>,\n",
       "  <matplotlib.lines.Line2D at 0x7f7f203e4150>,\n",
       "  <matplotlib.lines.Line2D at 0x7f7f204024d0>,\n",
       "  <matplotlib.lines.Line2D at 0x7f7f2019c8d0>,\n",
       "  <matplotlib.lines.Line2D at 0x7f7f201bbc50>,\n",
       "  <matplotlib.lines.Line2D at 0x7f7f20402f50>,\n",
       "  <matplotlib.lines.Line2D at 0x7f7f203e4c90>,\n",
       "  <matplotlib.lines.Line2D at 0x7f7f20132610>],\n",
       " 'means': []}"
      ]
     },
     "execution_count": 31,
     "metadata": {},
     "output_type": "execute_result"
    },
    {
     "data": {
      "image/png": "[encoded data removed]",
      "text/plain": [
       "<Figure size 432x288 with 1 Axes>"
      ]
     },
     "metadata": {
      "needs_background": "light"
     },
     "output_type": "display_data"
    }
   ],
   "source": [
    "plt.boxplot(data)"
   ]
  },
  {
   "cell_type": "code",
   "execution_count": 29,
   "metadata": {},
   "outputs": [],
   "source": [
    " %run trial_alpha_1sim.py"
   ]
  },
  {
   "cell_type": "code",
   "execution_count": 25,
   "metadata": {},
   "outputs": [
    {
     "data": {
      "text/plain": [
       "<matplotlib.legend.Legend at 0x7f4de04fcd10>"
      ]
     },
     "execution_count": 25,
     "metadata": {},
     "output_type": "execute_result"
    },
    {
     "data": {
      "image/png": "[encoded data removed]",
      "text/plain": [
       "<Figure size 432x288 with 1 Axes>"
      ]
     },
     "metadata": {
      "needs_background": "light"
     },
     "output_type": "display_data"
    }
   ],
   "source": [
    "plt.plot(y_pred[200:300], label='pred')\n",
    "plt.plot(y_real[200:300], label='real')\n",
    "plt.legend()"
   ]
  },
  {
   "cell_type": "code",
   "execution_count": 21,
   "metadata": {},
   "outputs": [
    {
     "data": {
      "text/plain": [
       "6.889023006951513"
      ]
     },
     "execution_count": 21,
     "metadata": {},
     "output_type": "execute_result"
    }
   ],
   "source": [
    "(dataset[200, 5]-mean[5])/std[5]"
   ]
  },
  {
   "cell_type": "code",
   "execution_count": 27,
   "metadata": {},
   "outputs": [
    {
     "data": {
      "text/plain": [
       "(287950,)"
      ]
     },
     "execution_count": 27,
     "metadata": {},
     "output_type": "execute_result"
    }
   ],
   "source": [
    "y_train_uni.shape"
   ]
  },
  {
   "cell_type": "code",
   "execution_count": 2,
   "metadata": {},
   "outputs": [
    {
     "data": {
      "text/plain": [
       "360"
      ]
     },
     "execution_count": 2,
     "metadata": {},
     "output_type": "execute_result"
    }
   ],
   "source": [
    "TRAIN_SPLIT"
   ]
  }
 ],
 "metadata": {
  "kernelspec": {
   "display_name": "Python 3",
   "language": "python",
   "name": "python3"
  },
  "language_info": {
   "codemirror_mode": {
    "name": "ipython",
    "version": 3
   },
   "file_extension": ".py",
   "mimetype": "text/x-python",
   "name": "python",
   "nbconvert_exporter": "python",
   "pygments_lexer": "ipython3",
   "version": "3.7.4"
  }
 },
 "nbformat": 4,
 "nbformat_minor": 4
}
